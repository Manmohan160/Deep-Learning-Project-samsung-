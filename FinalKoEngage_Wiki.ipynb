{
  "nbformat": 4,
  "nbformat_minor": 0,
  "metadata": {
    "colab": {
      "provenance": [],
      "gpuType": "T4",
      "authorship_tag": "ABX9TyOo9qGnpifhmZnpT8PonBt7",
      "include_colab_link": true
    },
    "kernelspec": {
      "name": "python3",
      "display_name": "Python 3"
    },
    "language_info": {
      "name": "python"
    },
    "accelerator": "GPU",
    "widgets": {
      "application/vnd.jupyter.widget-state+json": {
        "fb647917655144d9b77d2ad59eb0eed2": {
          "model_module": "@jupyter-widgets/controls",
          "model_name": "HBoxModel",
          "model_module_version": "1.5.0",
          "state": {
            "_dom_classes": [],
            "_model_module": "@jupyter-widgets/controls",
            "_model_module_version": "1.5.0",
            "_model_name": "HBoxModel",
            "_view_count": null,
            "_view_module": "@jupyter-widgets/controls",
            "_view_module_version": "1.5.0",
            "_view_name": "HBoxView",
            "box_style": "",
            "children": [
              "IPY_MODEL_e75bb5ddf9374f849996103dfecfeb96",
              "IPY_MODEL_0d5ee056d89d4bf09f18c5be4b7924ad",
              "IPY_MODEL_f923742170314d5283edf2a2ee3ceb7c"
            ],
            "layout": "IPY_MODEL_0d739eff2cba41679155ff9cbe581710"
          }
        },
        "e75bb5ddf9374f849996103dfecfeb96": {
          "model_module": "@jupyter-widgets/controls",
          "model_name": "HTMLModel",
          "model_module_version": "1.5.0",
          "state": {
            "_dom_classes": [],
            "_model_module": "@jupyter-widgets/controls",
            "_model_module_version": "1.5.0",
            "_model_name": "HTMLModel",
            "_view_count": null,
            "_view_module": "@jupyter-widgets/controls",
            "_view_module_version": "1.5.0",
            "_view_name": "HTMLView",
            "description": "",
            "description_tooltip": null,
            "layout": "IPY_MODEL_250098080641457eb624e3f7e7fcccd8",
            "placeholder": "​",
            "style": "IPY_MODEL_a074dc03901444418cf7a5b4ed722a7b",
            "value": "Map: 100%"
          }
        },
        "0d5ee056d89d4bf09f18c5be4b7924ad": {
          "model_module": "@jupyter-widgets/controls",
          "model_name": "FloatProgressModel",
          "model_module_version": "1.5.0",
          "state": {
            "_dom_classes": [],
            "_model_module": "@jupyter-widgets/controls",
            "_model_module_version": "1.5.0",
            "_model_name": "FloatProgressModel",
            "_view_count": null,
            "_view_module": "@jupyter-widgets/controls",
            "_view_module_version": "1.5.0",
            "_view_name": "ProgressView",
            "bar_style": "success",
            "description": "",
            "description_tooltip": null,
            "layout": "IPY_MODEL_78059e053b6b494a85022c3339761afd",
            "max": 27000,
            "min": 0,
            "orientation": "horizontal",
            "style": "IPY_MODEL_e1bb6f6668814cbc9b81649480d6397d",
            "value": 27000
          }
        },
        "f923742170314d5283edf2a2ee3ceb7c": {
          "model_module": "@jupyter-widgets/controls",
          "model_name": "HTMLModel",
          "model_module_version": "1.5.0",
          "state": {
            "_dom_classes": [],
            "_model_module": "@jupyter-widgets/controls",
            "_model_module_version": "1.5.0",
            "_model_name": "HTMLModel",
            "_view_count": null,
            "_view_module": "@jupyter-widgets/controls",
            "_view_module_version": "1.5.0",
            "_view_name": "HTMLView",
            "description": "",
            "description_tooltip": null,
            "layout": "IPY_MODEL_d59f4d7d01bf4b1dbed7477ccde77aa1",
            "placeholder": "​",
            "style": "IPY_MODEL_ac41efd57d054cd9a7b6140e92f6bdd1",
            "value": " 27000/27000 [00:10&lt;00:00, 2497.85 examples/s]"
          }
        },
        "0d739eff2cba41679155ff9cbe581710": {
          "model_module": "@jupyter-widgets/base",
          "model_name": "LayoutModel",
          "model_module_version": "1.2.0",
          "state": {
            "_model_module": "@jupyter-widgets/base",
            "_model_module_version": "1.2.0",
            "_model_name": "LayoutModel",
            "_view_count": null,
            "_view_module": "@jupyter-widgets/base",
            "_view_module_version": "1.2.0",
            "_view_name": "LayoutView",
            "align_content": null,
            "align_items": null,
            "align_self": null,
            "border": null,
            "bottom": null,
            "display": null,
            "flex": null,
            "flex_flow": null,
            "grid_area": null,
            "grid_auto_columns": null,
            "grid_auto_flow": null,
            "grid_auto_rows": null,
            "grid_column": null,
            "grid_gap": null,
            "grid_row": null,
            "grid_template_areas": null,
            "grid_template_columns": null,
            "grid_template_rows": null,
            "height": null,
            "justify_content": null,
            "justify_items": null,
            "left": null,
            "margin": null,
            "max_height": null,
            "max_width": null,
            "min_height": null,
            "min_width": null,
            "object_fit": null,
            "object_position": null,
            "order": null,
            "overflow": null,
            "overflow_x": null,
            "overflow_y": null,
            "padding": null,
            "right": null,
            "top": null,
            "visibility": null,
            "width": null
          }
        },
        "250098080641457eb624e3f7e7fcccd8": {
          "model_module": "@jupyter-widgets/base",
          "model_name": "LayoutModel",
          "model_module_version": "1.2.0",
          "state": {
            "_model_module": "@jupyter-widgets/base",
            "_model_module_version": "1.2.0",
            "_model_name": "LayoutModel",
            "_view_count": null,
            "_view_module": "@jupyter-widgets/base",
            "_view_module_version": "1.2.0",
            "_view_name": "LayoutView",
            "align_content": null,
            "align_items": null,
            "align_self": null,
            "border": null,
            "bottom": null,
            "display": null,
            "flex": null,
            "flex_flow": null,
            "grid_area": null,
            "grid_auto_columns": null,
            "grid_auto_flow": null,
            "grid_auto_rows": null,
            "grid_column": null,
            "grid_gap": null,
            "grid_row": null,
            "grid_template_areas": null,
            "grid_template_columns": null,
            "grid_template_rows": null,
            "height": null,
            "justify_content": null,
            "justify_items": null,
            "left": null,
            "margin": null,
            "max_height": null,
            "max_width": null,
            "min_height": null,
            "min_width": null,
            "object_fit": null,
            "object_position": null,
            "order": null,
            "overflow": null,
            "overflow_x": null,
            "overflow_y": null,
            "padding": null,
            "right": null,
            "top": null,
            "visibility": null,
            "width": null
          }
        },
        "a074dc03901444418cf7a5b4ed722a7b": {
          "model_module": "@jupyter-widgets/controls",
          "model_name": "DescriptionStyleModel",
          "model_module_version": "1.5.0",
          "state": {
            "_model_module": "@jupyter-widgets/controls",
            "_model_module_version": "1.5.0",
            "_model_name": "DescriptionStyleModel",
            "_view_count": null,
            "_view_module": "@jupyter-widgets/base",
            "_view_module_version": "1.2.0",
            "_view_name": "StyleView",
            "description_width": ""
          }
        },
        "78059e053b6b494a85022c3339761afd": {
          "model_module": "@jupyter-widgets/base",
          "model_name": "LayoutModel",
          "model_module_version": "1.2.0",
          "state": {
            "_model_module": "@jupyter-widgets/base",
            "_model_module_version": "1.2.0",
            "_model_name": "LayoutModel",
            "_view_count": null,
            "_view_module": "@jupyter-widgets/base",
            "_view_module_version": "1.2.0",
            "_view_name": "LayoutView",
            "align_content": null,
            "align_items": null,
            "align_self": null,
            "border": null,
            "bottom": null,
            "display": null,
            "flex": null,
            "flex_flow": null,
            "grid_area": null,
            "grid_auto_columns": null,
            "grid_auto_flow": null,
            "grid_auto_rows": null,
            "grid_column": null,
            "grid_gap": null,
            "grid_row": null,
            "grid_template_areas": null,
            "grid_template_columns": null,
            "grid_template_rows": null,
            "height": null,
            "justify_content": null,
            "justify_items": null,
            "left": null,
            "margin": null,
            "max_height": null,
            "max_width": null,
            "min_height": null,
            "min_width": null,
            "object_fit": null,
            "object_position": null,
            "order": null,
            "overflow": null,
            "overflow_x": null,
            "overflow_y": null,
            "padding": null,
            "right": null,
            "top": null,
            "visibility": null,
            "width": null
          }
        },
        "e1bb6f6668814cbc9b81649480d6397d": {
          "model_module": "@jupyter-widgets/controls",
          "model_name": "ProgressStyleModel",
          "model_module_version": "1.5.0",
          "state": {
            "_model_module": "@jupyter-widgets/controls",
            "_model_module_version": "1.5.0",
            "_model_name": "ProgressStyleModel",
            "_view_count": null,
            "_view_module": "@jupyter-widgets/base",
            "_view_module_version": "1.2.0",
            "_view_name": "StyleView",
            "bar_color": null,
            "description_width": ""
          }
        },
        "d59f4d7d01bf4b1dbed7477ccde77aa1": {
          "model_module": "@jupyter-widgets/base",
          "model_name": "LayoutModel",
          "model_module_version": "1.2.0",
          "state": {
            "_model_module": "@jupyter-widgets/base",
            "_model_module_version": "1.2.0",
            "_model_name": "LayoutModel",
            "_view_count": null,
            "_view_module": "@jupyter-widgets/base",
            "_view_module_version": "1.2.0",
            "_view_name": "LayoutView",
            "align_content": null,
            "align_items": null,
            "align_self": null,
            "border": null,
            "bottom": null,
            "display": null,
            "flex": null,
            "flex_flow": null,
            "grid_area": null,
            "grid_auto_columns": null,
            "grid_auto_flow": null,
            "grid_auto_rows": null,
            "grid_column": null,
            "grid_gap": null,
            "grid_row": null,
            "grid_template_areas": null,
            "grid_template_columns": null,
            "grid_template_rows": null,
            "height": null,
            "justify_content": null,
            "justify_items": null,
            "left": null,
            "margin": null,
            "max_height": null,
            "max_width": null,
            "min_height": null,
            "min_width": null,
            "object_fit": null,
            "object_position": null,
            "order": null,
            "overflow": null,
            "overflow_x": null,
            "overflow_y": null,
            "padding": null,
            "right": null,
            "top": null,
            "visibility": null,
            "width": null
          }
        },
        "ac41efd57d054cd9a7b6140e92f6bdd1": {
          "model_module": "@jupyter-widgets/controls",
          "model_name": "DescriptionStyleModel",
          "model_module_version": "1.5.0",
          "state": {
            "_model_module": "@jupyter-widgets/controls",
            "_model_module_version": "1.5.0",
            "_model_name": "DescriptionStyleModel",
            "_view_count": null,
            "_view_module": "@jupyter-widgets/base",
            "_view_module_version": "1.2.0",
            "_view_name": "StyleView",
            "description_width": ""
          }
        },
        "15c7e61a44bf49fd927d4434361ae541": {
          "model_module": "@jupyter-widgets/controls",
          "model_name": "HBoxModel",
          "model_module_version": "1.5.0",
          "state": {
            "_dom_classes": [],
            "_model_module": "@jupyter-widgets/controls",
            "_model_module_version": "1.5.0",
            "_model_name": "HBoxModel",
            "_view_count": null,
            "_view_module": "@jupyter-widgets/controls",
            "_view_module_version": "1.5.0",
            "_view_name": "HBoxView",
            "box_style": "",
            "children": [
              "IPY_MODEL_a720b26701c74cfb96e66b62db664ccf",
              "IPY_MODEL_700096e020884985a3bc5646f2a47588",
              "IPY_MODEL_0937499bb7fb4755bc141cfdfa30037d"
            ],
            "layout": "IPY_MODEL_f8829dcef50342b7a887beca534fc680"
          }
        },
        "a720b26701c74cfb96e66b62db664ccf": {
          "model_module": "@jupyter-widgets/controls",
          "model_name": "HTMLModel",
          "model_module_version": "1.5.0",
          "state": {
            "_dom_classes": [],
            "_model_module": "@jupyter-widgets/controls",
            "_model_module_version": "1.5.0",
            "_model_name": "HTMLModel",
            "_view_count": null,
            "_view_module": "@jupyter-widgets/controls",
            "_view_module_version": "1.5.0",
            "_view_name": "HTMLView",
            "description": "",
            "description_tooltip": null,
            "layout": "IPY_MODEL_dadcd004152b4f44b77ffefaebf902ef",
            "placeholder": "​",
            "style": "IPY_MODEL_0cd8f4b5a6ca407a8ba022a8b19a9531",
            "value": "Map: 100%"
          }
        },
        "700096e020884985a3bc5646f2a47588": {
          "model_module": "@jupyter-widgets/controls",
          "model_name": "FloatProgressModel",
          "model_module_version": "1.5.0",
          "state": {
            "_dom_classes": [],
            "_model_module": "@jupyter-widgets/controls",
            "_model_module_version": "1.5.0",
            "_model_name": "FloatProgressModel",
            "_view_count": null,
            "_view_module": "@jupyter-widgets/controls",
            "_view_module_version": "1.5.0",
            "_view_name": "ProgressView",
            "bar_style": "success",
            "description": "",
            "description_tooltip": null,
            "layout": "IPY_MODEL_07f071027a124bd9946217ebfddc84a3",
            "max": 3000,
            "min": 0,
            "orientation": "horizontal",
            "style": "IPY_MODEL_9b98b9f351e24997af057a1640e595da",
            "value": 3000
          }
        },
        "0937499bb7fb4755bc141cfdfa30037d": {
          "model_module": "@jupyter-widgets/controls",
          "model_name": "HTMLModel",
          "model_module_version": "1.5.0",
          "state": {
            "_dom_classes": [],
            "_model_module": "@jupyter-widgets/controls",
            "_model_module_version": "1.5.0",
            "_model_name": "HTMLModel",
            "_view_count": null,
            "_view_module": "@jupyter-widgets/controls",
            "_view_module_version": "1.5.0",
            "_view_name": "HTMLView",
            "description": "",
            "description_tooltip": null,
            "layout": "IPY_MODEL_00625c041d3f4f6d931e0c20751f3690",
            "placeholder": "​",
            "style": "IPY_MODEL_9622e08810d049a6ae745beb49f77527",
            "value": " 3000/3000 [00:01&lt;00:00, 2846.60 examples/s]"
          }
        },
        "f8829dcef50342b7a887beca534fc680": {
          "model_module": "@jupyter-widgets/base",
          "model_name": "LayoutModel",
          "model_module_version": "1.2.0",
          "state": {
            "_model_module": "@jupyter-widgets/base",
            "_model_module_version": "1.2.0",
            "_model_name": "LayoutModel",
            "_view_count": null,
            "_view_module": "@jupyter-widgets/base",
            "_view_module_version": "1.2.0",
            "_view_name": "LayoutView",
            "align_content": null,
            "align_items": null,
            "align_self": null,
            "border": null,
            "bottom": null,
            "display": null,
            "flex": null,
            "flex_flow": null,
            "grid_area": null,
            "grid_auto_columns": null,
            "grid_auto_flow": null,
            "grid_auto_rows": null,
            "grid_column": null,
            "grid_gap": null,
            "grid_row": null,
            "grid_template_areas": null,
            "grid_template_columns": null,
            "grid_template_rows": null,
            "height": null,
            "justify_content": null,
            "justify_items": null,
            "left": null,
            "margin": null,
            "max_height": null,
            "max_width": null,
            "min_height": null,
            "min_width": null,
            "object_fit": null,
            "object_position": null,
            "order": null,
            "overflow": null,
            "overflow_x": null,
            "overflow_y": null,
            "padding": null,
            "right": null,
            "top": null,
            "visibility": null,
            "width": null
          }
        },
        "dadcd004152b4f44b77ffefaebf902ef": {
          "model_module": "@jupyter-widgets/base",
          "model_name": "LayoutModel",
          "model_module_version": "1.2.0",
          "state": {
            "_model_module": "@jupyter-widgets/base",
            "_model_module_version": "1.2.0",
            "_model_name": "LayoutModel",
            "_view_count": null,
            "_view_module": "@jupyter-widgets/base",
            "_view_module_version": "1.2.0",
            "_view_name": "LayoutView",
            "align_content": null,
            "align_items": null,
            "align_self": null,
            "border": null,
            "bottom": null,
            "display": null,
            "flex": null,
            "flex_flow": null,
            "grid_area": null,
            "grid_auto_columns": null,
            "grid_auto_flow": null,
            "grid_auto_rows": null,
            "grid_column": null,
            "grid_gap": null,
            "grid_row": null,
            "grid_template_areas": null,
            "grid_template_columns": null,
            "grid_template_rows": null,
            "height": null,
            "justify_content": null,
            "justify_items": null,
            "left": null,
            "margin": null,
            "max_height": null,
            "max_width": null,
            "min_height": null,
            "min_width": null,
            "object_fit": null,
            "object_position": null,
            "order": null,
            "overflow": null,
            "overflow_x": null,
            "overflow_y": null,
            "padding": null,
            "right": null,
            "top": null,
            "visibility": null,
            "width": null
          }
        },
        "0cd8f4b5a6ca407a8ba022a8b19a9531": {
          "model_module": "@jupyter-widgets/controls",
          "model_name": "DescriptionStyleModel",
          "model_module_version": "1.5.0",
          "state": {
            "_model_module": "@jupyter-widgets/controls",
            "_model_module_version": "1.5.0",
            "_model_name": "DescriptionStyleModel",
            "_view_count": null,
            "_view_module": "@jupyter-widgets/base",
            "_view_module_version": "1.2.0",
            "_view_name": "StyleView",
            "description_width": ""
          }
        },
        "07f071027a124bd9946217ebfddc84a3": {
          "model_module": "@jupyter-widgets/base",
          "model_name": "LayoutModel",
          "model_module_version": "1.2.0",
          "state": {
            "_model_module": "@jupyter-widgets/base",
            "_model_module_version": "1.2.0",
            "_model_name": "LayoutModel",
            "_view_count": null,
            "_view_module": "@jupyter-widgets/base",
            "_view_module_version": "1.2.0",
            "_view_name": "LayoutView",
            "align_content": null,
            "align_items": null,
            "align_self": null,
            "border": null,
            "bottom": null,
            "display": null,
            "flex": null,
            "flex_flow": null,
            "grid_area": null,
            "grid_auto_columns": null,
            "grid_auto_flow": null,
            "grid_auto_rows": null,
            "grid_column": null,
            "grid_gap": null,
            "grid_row": null,
            "grid_template_areas": null,
            "grid_template_columns": null,
            "grid_template_rows": null,
            "height": null,
            "justify_content": null,
            "justify_items": null,
            "left": null,
            "margin": null,
            "max_height": null,
            "max_width": null,
            "min_height": null,
            "min_width": null,
            "object_fit": null,
            "object_position": null,
            "order": null,
            "overflow": null,
            "overflow_x": null,
            "overflow_y": null,
            "padding": null,
            "right": null,
            "top": null,
            "visibility": null,
            "width": null
          }
        },
        "9b98b9f351e24997af057a1640e595da": {
          "model_module": "@jupyter-widgets/controls",
          "model_name": "ProgressStyleModel",
          "model_module_version": "1.5.0",
          "state": {
            "_model_module": "@jupyter-widgets/controls",
            "_model_module_version": "1.5.0",
            "_model_name": "ProgressStyleModel",
            "_view_count": null,
            "_view_module": "@jupyter-widgets/base",
            "_view_module_version": "1.2.0",
            "_view_name": "StyleView",
            "bar_color": null,
            "description_width": ""
          }
        },
        "00625c041d3f4f6d931e0c20751f3690": {
          "model_module": "@jupyter-widgets/base",
          "model_name": "LayoutModel",
          "model_module_version": "1.2.0",
          "state": {
            "_model_module": "@jupyter-widgets/base",
            "_model_module_version": "1.2.0",
            "_model_name": "LayoutModel",
            "_view_count": null,
            "_view_module": "@jupyter-widgets/base",
            "_view_module_version": "1.2.0",
            "_view_name": "LayoutView",
            "align_content": null,
            "align_items": null,
            "align_self": null,
            "border": null,
            "bottom": null,
            "display": null,
            "flex": null,
            "flex_flow": null,
            "grid_area": null,
            "grid_auto_columns": null,
            "grid_auto_flow": null,
            "grid_auto_rows": null,
            "grid_column": null,
            "grid_gap": null,
            "grid_row": null,
            "grid_template_areas": null,
            "grid_template_columns": null,
            "grid_template_rows": null,
            "height": null,
            "justify_content": null,
            "justify_items": null,
            "left": null,
            "margin": null,
            "max_height": null,
            "max_width": null,
            "min_height": null,
            "min_width": null,
            "object_fit": null,
            "object_position": null,
            "order": null,
            "overflow": null,
            "overflow_x": null,
            "overflow_y": null,
            "padding": null,
            "right": null,
            "top": null,
            "visibility": null,
            "width": null
          }
        },
        "9622e08810d049a6ae745beb49f77527": {
          "model_module": "@jupyter-widgets/controls",
          "model_name": "DescriptionStyleModel",
          "model_module_version": "1.5.0",
          "state": {
            "_model_module": "@jupyter-widgets/controls",
            "_model_module_version": "1.5.0",
            "_model_name": "DescriptionStyleModel",
            "_view_count": null,
            "_view_module": "@jupyter-widgets/base",
            "_view_module_version": "1.2.0",
            "_view_name": "StyleView",
            "description_width": ""
          }
        }
      }
    }
  },
  "cells": [
    {
      "cell_type": "markdown",
      "metadata": {
        "id": "view-in-github",
        "colab_type": "text"
      },
      "source": [
        "<a href=\"https://colab.research.google.com/github/Manmohan160/Deep-Learning-Project-samsung-/blob/Amrita/FinalKoEngage_Wiki.ipynb\" target=\"_parent\"><img src=\"https://colab.research.google.com/assets/colab-badge.svg\" alt=\"Open In Colab\"/></a>"
      ]
    },
    {
      "cell_type": "code",
      "execution_count": null,
      "metadata": {
        "id": "4tfJAJ2Vzr9g"
      },
      "outputs": [],
      "source": [
        "#!pip install datasets transformers sacrebleu bert_score scikit-learn optuna sacremoses langdetect"
      ]
    },
    {
      "cell_type": "code",
      "source": [
        "# 1) Load and preprocess data from WikiMatrix.en-ko files\n",
        "import pandas as pd\n",
        "import re\n",
        "from datasets import Dataset, DatasetDict\n",
        "from sklearn.model_selection import train_test_split\n",
        "import nltk\n",
        "from langdetect import detect\n",
        "\n",
        "nltk.download('punkt')\n",
        "nltk.download('punkt_tab')\n",
        "'''\n",
        "# 1. Load the files\n",
        "with open('WikiMatrix.en-ko.ko', 'r', encoding='utf-8') as f:\n",
        "    ko_lines = [l.strip() for l in f if l.strip()]\n",
        "with open('WikiMatrix.en-ko.en', 'r', encoding='utf-8') as f:\n",
        "    en_lines = [l.strip() for l in f if l.strip()]\n",
        "\n",
        "df = pd.DataFrame({'ko': ko_lines, 'en': en_lines})\n",
        "print(f\"✅ Loaded: {len(df)} sentence pairs\")\n",
        "\n",
        "# 2. Drop duplicates\n",
        "df = df.drop_duplicates()\n",
        "print(f\"✅ After deduplication: {len(df)} pairs\")\n",
        "\n",
        "# 3. Language detection (filter out incorrect language pairs)\n",
        "def is_lang(text, lang_code):\n",
        "    try:\n",
        "        return detect(text) == lang_code\n",
        "    except:\n",
        "        return False\n",
        "\n",
        "df = df[df['en'].apply(lambda x: is_lang(x, 'en')) & df['ko'].apply(lambda x: is_lang(x, 'ko'))]\n",
        "print(f\"✅ After language filtering: {len(df)} pairs\")\n",
        "\n",
        "df.to_csv('wikimatrix_cleaned.csv', index=False, encoding='utf-8')\n",
        "'''"
      ],
      "metadata": {
        "colab": {
          "base_uri": "https://localhost:8080/",
          "height": 214
        },
        "id": "obOxOAouDwq1",
        "outputId": "322dd835-8959-4e0b-dc16-3c38afae278f"
      },
      "execution_count": null,
      "outputs": [
        {
          "output_type": "stream",
          "name": "stderr",
          "text": [
            "[nltk_data] Downloading package punkt to /root/nltk_data...\n",
            "[nltk_data]   Package punkt is already up-to-date!\n",
            "[nltk_data] Downloading package punkt_tab to /root/nltk_data...\n",
            "[nltk_data]   Package punkt_tab is already up-to-date!\n"
          ]
        },
        {
          "output_type": "execute_result",
          "data": {
            "text/plain": [
              "'\\n# 1. Load the files\\nwith open(\\'WikiMatrix.en-ko.ko\\', \\'r\\', encoding=\\'utf-8\\') as f:\\n    ko_lines = [l.strip() for l in f if l.strip()]\\nwith open(\\'WikiMatrix.en-ko.en\\', \\'r\\', encoding=\\'utf-8\\') as f:\\n    en_lines = [l.strip() for l in f if l.strip()]\\n\\ndf = pd.DataFrame({\\'ko\\': ko_lines, \\'en\\': en_lines})\\nprint(f\"✅ Loaded: {len(df)} sentence pairs\")\\n\\n# 2. Drop duplicates\\ndf = df.drop_duplicates()\\nprint(f\"✅ After deduplication: {len(df)} pairs\")\\n\\n# 3. Language detection (filter out incorrect language pairs)\\ndef is_lang(text, lang_code):\\n    try:\\n        return detect(text) == lang_code\\n    except:\\n        return False\\n\\ndf = df[df[\\'en\\'].apply(lambda x: is_lang(x, \\'en\\')) & df[\\'ko\\'].apply(lambda x: is_lang(x, \\'ko\\'))]\\nprint(f\"✅ After language filtering: {len(df)} pairs\")\\n\\ndf.to_csv(\\'wikimatrix_cleaned.csv\\', index=False, encoding=\\'utf-8\\')\\n'"
            ],
            "application/vnd.google.colaboratory.intrinsic+json": {
              "type": "string"
            }
          },
          "metadata": {},
          "execution_count": 12
        }
      ]
    },
    {
      "cell_type": "code",
      "source": [
        "df = pd.read_csv('wikimatrix_cleaned.csv')\n",
        "\n",
        "# 5. Length filtering: keep sentences with 2+ tokens and balanced lengths\n",
        "df['len_ko'] = df['ko'].apply(lambda x: len(nltk.word_tokenize(x)))\n",
        "df['len_en'] = df['en'].apply(lambda x: len(nltk.word_tokenize(x)))\n",
        "ratio = df['len_en'] / df['len_ko']\n",
        "df = df[(df['len_en'] > 2) & (df['len_ko'] > 2) & (ratio.between(0.5, 1.5))]\n",
        "print(f\"✅ After length filtering: {len(df)} pairs\")\n",
        "\n",
        "# 6. Drop helper columns\n",
        "df = df.drop(columns=['len_ko', 'len_en'])\n",
        "\n",
        "# 7. Down-sample to 30k\n",
        "df = df.sample(n=30000, random_state=42).reset_index(drop=True)\n",
        "print(f\"After sampling: {len(df)} pairs\")\n",
        "\n",
        "# 8. Train/validation split\n",
        "train_df, val_df = train_test_split(df, test_size=0.1, random_state=42)\n",
        "raw_datasets = DatasetDict({\n",
        "    'train': Dataset.from_pandas(train_df.reset_index(drop=True)),\n",
        "    'validation': Dataset.from_pandas(val_df.reset_index(drop=True))\n",
        "})\n",
        "print(\"Final dataset:\", raw_datasets)\n"
      ],
      "metadata": {
        "colab": {
          "base_uri": "https://localhost:8080/"
        },
        "id": "CgjKTqvJz5-0",
        "outputId": "6f491802-b63d-45aa-88f6-e9c4e9c7e399"
      },
      "execution_count": null,
      "outputs": [
        {
          "output_type": "stream",
          "name": "stdout",
          "text": [
            "✅ After length filtering: 177734 pairs\n",
            "After sampling: 30000 pairs\n",
            "Final dataset: DatasetDict({\n",
            "    train: Dataset({\n",
            "        features: ['ko', 'en'],\n",
            "        num_rows: 27000\n",
            "    })\n",
            "    validation: Dataset({\n",
            "        features: ['ko', 'en'],\n",
            "        num_rows: 3000\n",
            "    })\n",
            "})\n"
          ]
        }
      ]
    },
    {
      "cell_type": "code",
      "source": [
        "# 3) Load tokenizer & model\n",
        "import torch\n",
        "from transformers import MarianTokenizer, MarianMTModel\n",
        "\n",
        "model_name = 'Helsinki-NLP/opus-mt-ko-en'\n",
        "tokenizer = MarianTokenizer.from_pretrained(model_name)\n",
        "model = MarianMTModel.from_pretrained(model_name).to('cuda' if torch.cuda.is_available() else 'cpu')\n",
        "device = model.device\n",
        "print('Using device:', device)"
      ],
      "metadata": {
        "colab": {
          "base_uri": "https://localhost:8080/"
        },
        "id": "yB0xyS300BbQ",
        "outputId": "8cb5d5e9-e64b-41f0-c328-68272d459a06"
      },
      "execution_count": null,
      "outputs": [
        {
          "output_type": "stream",
          "name": "stdout",
          "text": [
            "Using device: cuda:0\n"
          ]
        }
      ]
    },
    {
      "cell_type": "code",
      "source": [
        "# 4) Sample translations before training\n",
        "print('--- Pre-trained model samples ---')\n",
        "for i in range(5):\n",
        "    ko = raw_datasets['validation'][i]['ko']\n",
        "    enc = tokenizer(ko, return_tensors='pt', truncation=True, max_length=128).to(device)\n",
        "    out = model.generate(**enc, num_beams=4, max_length=128)\n",
        "    print(f'KO: {ko}')\n",
        "    print('EN:', tokenizer.decode(out[0], skip_special_tokens=True), '\\n')"
      ],
      "metadata": {
        "colab": {
          "base_uri": "https://localhost:8080/"
        },
        "id": "kBNiJV650Dd7",
        "outputId": "f6825237-d728-4699-f841-683ccb53b7b8"
      },
      "execution_count": null,
      "outputs": [
        {
          "output_type": "stream",
          "name": "stdout",
          "text": [
            "--- Pre-trained model samples ---\n",
            "KO: 이 영화만을 위해 순수 작곡한 곡은 있지 않다.\n",
            "EN: There are no pure compositions for this film alone. \n",
            "\n",
            "KO: 대멸종은 종종 지구상의 생명체의 진화를 가속하기도 한다.\n",
            "EN: Great extinctions often accelerate the evolution of life on Earth. \n",
            "\n",
            "KO: 페르세포네가 하데스와 함께 있는 4달은 그리스의 건조한 여름에 해당하는데, 이 기간 동안 식물들은 가뭄으로 생존의 위협을 받는다.\n",
            "EN: The four months that Percelle is with Hades are the dry summers of Greece, during which plants are threatened with survival because of drought. \n",
            "\n",
            "KO: 빅토리아 여왕의 샌드링엄 하우스에 두 차례 방문 중 한번은 그녀가 저녁 식사를 마치고 이곳에서 열린 파티를 열었는데, 그녀의 일기에 \"채색된 천장과 두 개의 벽난로를 지닌 매우 길고 멋진 응접실\"이라 적었다.\n",
            "EN: On one of her two visits to Queen Victoria's Sandringham House, she had a party here after dinner, and in her diary she wrote: \"a very long and wonderful parlour with a colored ceiling and two fireplaces.\" \n",
            "\n",
            "KO: 대시캠은 일반적으로 4G와 전면 360° 카메라를 채용한다.\n",
            "EN: The dash usually employs a 4G camera and a front 360-degree camera. \n",
            "\n"
          ]
        }
      ]
    },
    {
      "cell_type": "code",
      "source": [
        "# 5) Preprocess for training\n",
        "from transformers import DataCollatorForSeq2Seq\n",
        "\n",
        "max_len = 128\n",
        "def preprocess_function(ex):\n",
        "    in_tok = tokenizer(ex['ko'], truncation=True, padding='max_length', max_length=max_len)\n",
        "    with tokenizer.as_target_tokenizer():\n",
        "        lbl = tokenizer(ex['en'], truncation=True, padding='max_length', max_length=max_len)\n",
        "    in_tok['labels'] = lbl['input_ids']\n",
        "    return in_tok\n",
        "\n",
        "tokenized = raw_datasets.map(preprocess_function, batched=True, remove_columns=['en','ko'])\n",
        "data_collator = DataCollatorForSeq2Seq(tokenizer, model=model)\n",
        "print(tokenized)"
      ],
      "metadata": {
        "colab": {
          "base_uri": "https://localhost:8080/",
          "height": 315,
          "referenced_widgets": [
            "fb647917655144d9b77d2ad59eb0eed2",
            "e75bb5ddf9374f849996103dfecfeb96",
            "0d5ee056d89d4bf09f18c5be4b7924ad",
            "f923742170314d5283edf2a2ee3ceb7c",
            "0d739eff2cba41679155ff9cbe581710",
            "250098080641457eb624e3f7e7fcccd8",
            "a074dc03901444418cf7a5b4ed722a7b",
            "78059e053b6b494a85022c3339761afd",
            "e1bb6f6668814cbc9b81649480d6397d",
            "d59f4d7d01bf4b1dbed7477ccde77aa1",
            "ac41efd57d054cd9a7b6140e92f6bdd1",
            "15c7e61a44bf49fd927d4434361ae541",
            "a720b26701c74cfb96e66b62db664ccf",
            "700096e020884985a3bc5646f2a47588",
            "0937499bb7fb4755bc141cfdfa30037d",
            "f8829dcef50342b7a887beca534fc680",
            "dadcd004152b4f44b77ffefaebf902ef",
            "0cd8f4b5a6ca407a8ba022a8b19a9531",
            "07f071027a124bd9946217ebfddc84a3",
            "9b98b9f351e24997af057a1640e595da",
            "00625c041d3f4f6d931e0c20751f3690",
            "9622e08810d049a6ae745beb49f77527"
          ]
        },
        "id": "5J7bO_7N0EEb",
        "outputId": "62da34ad-db21-4ee2-e2aa-89f64167e7ff"
      },
      "execution_count": null,
      "outputs": [
        {
          "output_type": "display_data",
          "data": {
            "text/plain": [
              "Map:   0%|          | 0/27000 [00:00<?, ? examples/s]"
            ],
            "application/vnd.jupyter.widget-view+json": {
              "version_major": 2,
              "version_minor": 0,
              "model_id": "fb647917655144d9b77d2ad59eb0eed2"
            }
          },
          "metadata": {}
        },
        {
          "output_type": "stream",
          "name": "stderr",
          "text": [
            "/usr/local/lib/python3.11/dist-packages/transformers/tokenization_utils_base.py:3959: UserWarning: `as_target_tokenizer` is deprecated and will be removed in v5 of Transformers. You can tokenize your labels by using the argument `text_target` of the regular `__call__` method (either in the same call as your input texts if you use the same keyword arguments, or in a separate call.\n",
            "  warnings.warn(\n"
          ]
        },
        {
          "output_type": "display_data",
          "data": {
            "text/plain": [
              "Map:   0%|          | 0/3000 [00:00<?, ? examples/s]"
            ],
            "application/vnd.jupyter.widget-view+json": {
              "version_major": 2,
              "version_minor": 0,
              "model_id": "15c7e61a44bf49fd927d4434361ae541"
            }
          },
          "metadata": {}
        },
        {
          "output_type": "stream",
          "name": "stdout",
          "text": [
            "DatasetDict({\n",
            "    train: Dataset({\n",
            "        features: ['input_ids', 'attention_mask', 'labels'],\n",
            "        num_rows: 27000\n",
            "    })\n",
            "    validation: Dataset({\n",
            "        features: ['input_ids', 'attention_mask', 'labels'],\n",
            "        num_rows: 3000\n",
            "    })\n",
            "})\n"
          ]
        }
      ]
    },
    {
      "cell_type": "code",
      "source": [
        "# 6) Metrics\n",
        "!pip install evaluate\n",
        "import evaluate\n",
        "bleu = evaluate.load('bleu')\n",
        "bertscore = evaluate.load('bertscore')\n",
        "chrf = evaluate.load('chrf')\n",
        "\n",
        "def compute_metrics(p):\n",
        "    preds, labels = p\n",
        "    dec_preds = tokenizer.batch_decode(preds, skip_special_tokens=True)\n",
        "    dec_labels = tokenizer.batch_decode(labels, skip_special_tokens=True)\n",
        "    return {\n",
        "        'bleu': bleu.compute(predictions=dec_preds, references=[[l] for l in dec_labels])['bleu'],\n",
        "        'bertscore': sum(bertscore.compute(predictions=dec_preds, references=dec_labels, lang='en')['f1'])/len(dec_labels),\n",
        "        'chrf': chrf.compute(predictions=dec_preds, references=dec_labels)['score']\n",
        "    }"
      ],
      "metadata": {
        "colab": {
          "base_uri": "https://localhost:8080/"
        },
        "id": "j8WX_2gR2ZJ9",
        "outputId": "bc9eaba3-a343-4a62-855c-86a42e5c711e"
      },
      "execution_count": null,
      "outputs": [
        {
          "output_type": "stream",
          "name": "stdout",
          "text": [
            "Requirement already satisfied: evaluate in /usr/local/lib/python3.11/dist-packages (0.4.4)\n",
            "Requirement already satisfied: datasets>=2.0.0 in /usr/local/lib/python3.11/dist-packages (from evaluate) (2.14.4)\n",
            "Requirement already satisfied: numpy>=1.17 in /usr/local/lib/python3.11/dist-packages (from evaluate) (2.0.2)\n",
            "Requirement already satisfied: dill in /usr/local/lib/python3.11/dist-packages (from evaluate) (0.3.7)\n",
            "Requirement already satisfied: pandas in /usr/local/lib/python3.11/dist-packages (from evaluate) (2.2.2)\n",
            "Requirement already satisfied: requests>=2.19.0 in /usr/local/lib/python3.11/dist-packages (from evaluate) (2.32.3)\n",
            "Requirement already satisfied: tqdm>=4.62.1 in /usr/local/lib/python3.11/dist-packages (from evaluate) (4.67.1)\n",
            "Requirement already satisfied: xxhash in /usr/local/lib/python3.11/dist-packages (from evaluate) (3.5.0)\n",
            "Requirement already satisfied: multiprocess in /usr/local/lib/python3.11/dist-packages (from evaluate) (0.70.15)\n",
            "Requirement already satisfied: fsspec>=2021.05.0 in /usr/local/lib/python3.11/dist-packages (from fsspec[http]>=2021.05.0->evaluate) (2025.3.2)\n",
            "Requirement already satisfied: huggingface-hub>=0.7.0 in /usr/local/lib/python3.11/dist-packages (from evaluate) (0.33.0)\n",
            "Requirement already satisfied: packaging in /usr/local/lib/python3.11/dist-packages (from evaluate) (24.2)\n",
            "Requirement already satisfied: pyarrow>=8.0.0 in /usr/local/lib/python3.11/dist-packages (from datasets>=2.0.0->evaluate) (18.1.0)\n",
            "Requirement already satisfied: aiohttp in /usr/local/lib/python3.11/dist-packages (from datasets>=2.0.0->evaluate) (3.11.15)\n",
            "Requirement already satisfied: pyyaml>=5.1 in /usr/local/lib/python3.11/dist-packages (from datasets>=2.0.0->evaluate) (6.0.2)\n",
            "Requirement already satisfied: filelock in /usr/local/lib/python3.11/dist-packages (from huggingface-hub>=0.7.0->evaluate) (3.18.0)\n",
            "Requirement already satisfied: typing-extensions>=3.7.4.3 in /usr/local/lib/python3.11/dist-packages (from huggingface-hub>=0.7.0->evaluate) (4.14.0)\n",
            "Requirement already satisfied: hf-xet<2.0.0,>=1.1.2 in /usr/local/lib/python3.11/dist-packages (from huggingface-hub>=0.7.0->evaluate) (1.1.3)\n",
            "Requirement already satisfied: charset-normalizer<4,>=2 in /usr/local/lib/python3.11/dist-packages (from requests>=2.19.0->evaluate) (3.4.2)\n",
            "Requirement already satisfied: idna<4,>=2.5 in /usr/local/lib/python3.11/dist-packages (from requests>=2.19.0->evaluate) (3.10)\n",
            "Requirement already satisfied: urllib3<3,>=1.21.1 in /usr/local/lib/python3.11/dist-packages (from requests>=2.19.0->evaluate) (2.4.0)\n",
            "Requirement already satisfied: certifi>=2017.4.17 in /usr/local/lib/python3.11/dist-packages (from requests>=2.19.0->evaluate) (2025.6.15)\n",
            "Requirement already satisfied: python-dateutil>=2.8.2 in /usr/local/lib/python3.11/dist-packages (from pandas->evaluate) (2.9.0.post0)\n",
            "Requirement already satisfied: pytz>=2020.1 in /usr/local/lib/python3.11/dist-packages (from pandas->evaluate) (2025.2)\n",
            "Requirement already satisfied: tzdata>=2022.7 in /usr/local/lib/python3.11/dist-packages (from pandas->evaluate) (2025.2)\n",
            "Requirement already satisfied: aiohappyeyeballs>=2.3.0 in /usr/local/lib/python3.11/dist-packages (from aiohttp->datasets>=2.0.0->evaluate) (2.6.1)\n",
            "Requirement already satisfied: aiosignal>=1.1.2 in /usr/local/lib/python3.11/dist-packages (from aiohttp->datasets>=2.0.0->evaluate) (1.3.2)\n",
            "Requirement already satisfied: attrs>=17.3.0 in /usr/local/lib/python3.11/dist-packages (from aiohttp->datasets>=2.0.0->evaluate) (25.3.0)\n",
            "Requirement already satisfied: frozenlist>=1.1.1 in /usr/local/lib/python3.11/dist-packages (from aiohttp->datasets>=2.0.0->evaluate) (1.7.0)\n",
            "Requirement already satisfied: multidict<7.0,>=4.5 in /usr/local/lib/python3.11/dist-packages (from aiohttp->datasets>=2.0.0->evaluate) (6.4.4)\n",
            "Requirement already satisfied: propcache>=0.2.0 in /usr/local/lib/python3.11/dist-packages (from aiohttp->datasets>=2.0.0->evaluate) (0.3.2)\n",
            "Requirement already satisfied: yarl<2.0,>=1.17.0 in /usr/local/lib/python3.11/dist-packages (from aiohttp->datasets>=2.0.0->evaluate) (1.20.1)\n",
            "Requirement already satisfied: six>=1.5 in /usr/local/lib/python3.11/dist-packages (from python-dateutil>=2.8.2->pandas->evaluate) (1.17.0)\n"
          ]
        }
      ]
    },
    {
      "cell_type": "code",
      "source": [
        "\n",
        "# 7) Hyperparameter search (Optuna)\n",
        "from transformers import Seq2SeqTrainingArguments, Seq2SeqTrainer\n",
        "\n",
        "def hp_space(trial):\n",
        "    return {\n",
        "        'learning_rate': trial.suggest_loguniform('learning_rate', 5e-6, 5e-5),\n",
        "        'per_device_train_batch_size': trial.suggest_categorical('per_device_train_batch_size', [4,8]),\n",
        "        'num_train_epochs': trial.suggest_int('num_train_epochs', 1, 3)\n",
        "    }\n",
        "\n",
        "args = Seq2SeqTrainingArguments(\n",
        "    output_dir='temp',\n",
        "    save_total_limit=1,\n",
        "    predict_with_generate=True,\n",
        "    fp16=torch.cuda.is_available(),\n",
        ")\n",
        "\n",
        "def model_init():\n",
        "    return MarianMTModel.from_pretrained(model_name)\n",
        "'''\n",
        "trainer = Seq2SeqTrainer(\n",
        "    model_init=model_init,\n",
        "    args=args,\n",
        "    train_dataset=tokenized['train'],\n",
        "    eval_dataset=tokenized['validation'],\n",
        "    tokenizer=tokenizer,\n",
        "    data_collator=data_collator,\n",
        "    compute_metrics=compute_metrics\n",
        ")\n",
        "\n",
        "best_run = trainer.hyperparameter_search(\n",
        "    direction='maximize',\n",
        "    backend='optuna',\n",
        "    n_trials=5,\n",
        "    hp_space=hp_space,\n",
        "    compute_objective=lambda metrics: metrics['eval_bleu']\n",
        ")\n",
        "print('Best hyperparameters:', best_run.hyperparameters)\n",
        "'''"
      ],
      "metadata": {
        "colab": {
          "base_uri": "https://localhost:8080/",
          "height": 89
        },
        "collapsed": true,
        "id": "co37qfO02eRy",
        "outputId": "5590c309-7c7c-493a-d122-35ca1d956766"
      },
      "execution_count": null,
      "outputs": [
        {
          "output_type": "execute_result",
          "data": {
            "text/plain": [
              "\"\\ntrainer = Seq2SeqTrainer(\\n    model_init=model_init,\\n    args=args,\\n    train_dataset=tokenized['train'],\\n    eval_dataset=tokenized['validation'],\\n    tokenizer=tokenizer,\\n    data_collator=data_collator,\\n    compute_metrics=compute_metrics\\n)\\n\\nbest_run = trainer.hyperparameter_search(\\n    direction='maximize',\\n    backend='optuna',\\n    n_trials=5,\\n    hp_space=hp_space,\\n    compute_objective=lambda metrics: metrics['eval_bleu']\\n)\\nprint('Best hyperparameters:', best_run.hyperparameters)\\n\""
            ],
            "application/vnd.google.colaboratory.intrinsic+json": {
              "type": "string"
            }
          },
          "metadata": {},
          "execution_count": 18
        }
      ]
    },
    {
      "cell_type": "code",
      "source": [],
      "metadata": {
        "id": "STHp1e6N3jT7"
      },
      "execution_count": null,
      "outputs": []
    },
    {
      "source": [
        "# Use the best hyperparameters directly\n",
        "best_args = Seq2SeqTrainingArguments(\n",
        "    output_dir='./best',\n",
        "    learning_rate=5e-05,\n",
        "    per_device_train_batch_size=8,\n",
        "    num_train_epochs=1,\n",
        "    predict_with_generate=True,\n",
        "    fp16=torch.cuda.is_available(),  # Use FP16 if GPU available\n",
        "    save_total_limit=1,\n",
        "    logging_strategy=\"epoch\"\n",
        ")\n",
        "\n",
        "# Re-initialize the model (optional: helps ensure clean training)\n",
        "# Ensure model_init is defined as a function returning a fresh model instance\n",
        "# Call model_init() to get the model instance\n",
        "final_model = model_init()\n",
        "\n",
        "# Train using Seq2SeqTrainer\n",
        "trainer = Seq2SeqTrainer(\n",
        "    model=final_model,  # Pass the final model instance here\n",
        "    args=best_args,\n",
        "    train_dataset=tokenized['train'],\n",
        "    eval_dataset=tokenized['validation'],\n",
        "    tokenizer=tokenizer,\n",
        "    data_collator=data_collator,\n",
        "    compute_metrics=compute_metrics\n",
        ")\n",
        "\n",
        "print('### Evaluation before supervised fine-tuning ###')\n",
        "print(trainer.evaluate())\n",
        "trainer.train()\n",
        "print('### Evaluation after supervised fine-tuning ###')\n",
        "print(trainer.evaluate())\n",
        "\n",
        "# 9) Sample translations after fine-tuning\n",
        "print('--- Fine-tuned model samples ---')\n",
        "# Use the fine-tuned model from the trainer\n",
        "for i in range(5):\n",
        "    ko = raw_datasets['validation'][i]['ko']\n",
        "    enc = tokenizer(ko, return_tensors='pt', truncation=True, max_length=128).to(device)\n",
        "    # Generate translations using the fine-tuned model instance\n",
        "    out = final_model.generate(**enc, num_beams=4, max_length=128)\n",
        "    print(f'KO: {ko}')\n",
        "    print('EN:', tokenizer.decode(out[0], skip_special_tokens=True), '\\n')"
      ],
      "cell_type": "code",
      "metadata": {
        "colab": {
          "base_uri": "https://localhost:8080/",
          "height": 575
        },
        "id": "dxUGCZHScnpn",
        "outputId": "3e2610f5-5f79-40de-b374-876de5240eea"
      },
      "execution_count": null,
      "outputs": [
        {
          "output_type": "stream",
          "name": "stderr",
          "text": [
            "/tmp/ipython-input-20-1466630057.py:19: FutureWarning: `tokenizer` is deprecated and will be removed in version 5.0.0 for `Seq2SeqTrainer.__init__`. Use `processing_class` instead.\n",
            "  trainer = Seq2SeqTrainer(\n"
          ]
        },
        {
          "output_type": "stream",
          "name": "stdout",
          "text": [
            "### Evaluation before supervised fine-tuning ###\n"
          ]
        },
        {
          "output_type": "display_data",
          "data": {
            "text/plain": [
              "<IPython.core.display.HTML object>"
            ],
            "text/html": [
              "\n",
              "    <div>\n",
              "      \n",
              "      <progress value='750' max='375' style='width:300px; height:20px; vertical-align: middle;'></progress>\n",
              "      [375/375 28:33]\n",
              "    </div>\n",
              "    "
            ]
          },
          "metadata": {}
        },
        {
          "output_type": "stream",
          "name": "stdout",
          "text": [
            "{'eval_loss': 5.016435623168945, 'eval_model_preparation_time': 0.0052, 'eval_bleu': 0.154918445244799, 'eval_bertscore': 0.9100718971292178, 'eval_chrf': 44.08719157101856, 'eval_runtime': 540.8485, 'eval_samples_per_second': 5.547, 'eval_steps_per_second': 0.693}\n"
          ]
        },
        {
          "output_type": "display_data",
          "data": {
            "text/plain": [
              "<IPython.core.display.HTML object>"
            ],
            "text/html": [
              "\n",
              "    <div>\n",
              "      \n",
              "      <progress value='3375' max='3375' style='width:300px; height:20px; vertical-align: middle;'></progress>\n",
              "      [3375/3375 09:24, Epoch 1/1]\n",
              "    </div>\n",
              "    <table border=\"1\" class=\"dataframe\">\n",
              "  <thead>\n",
              " <tr style=\"text-align: left;\">\n",
              "      <th>Step</th>\n",
              "      <th>Training Loss</th>\n",
              "    </tr>\n",
              "  </thead>\n",
              "  <tbody>\n",
              "    <tr>\n",
              "      <td>3375</td>\n",
              "      <td>0.504400</td>\n",
              "    </tr>\n",
              "  </tbody>\n",
              "</table><p>"
            ]
          },
          "metadata": {}
        },
        {
          "output_type": "stream",
          "name": "stderr",
          "text": [
            "/usr/local/lib/python3.11/dist-packages/transformers/modeling_utils.py:3465: UserWarning: Moving the following attributes in the config to the generation config: {'max_length': 512, 'num_beams': 6, 'bad_words_ids': [[65000]]}. You are seeing this warning because you've set generation parameters in the model config, as opposed to in the generation config.\n",
            "  warnings.warn(\n"
          ]
        },
        {
          "output_type": "stream",
          "name": "stdout",
          "text": [
            "### Evaluation after supervised fine-tuning ###\n",
            "{'eval_loss': 0.449331670999527, 'eval_model_preparation_time': 0.0052, 'eval_bleu': 0.12729122731073006, 'eval_bertscore': 0.91150659430027, 'eval_chrf': 44.293792926034776, 'eval_runtime': 659.9381, 'eval_samples_per_second': 4.546, 'eval_steps_per_second': 0.568, 'epoch': 1.0}\n",
            "--- Fine-tuned model samples ---\n",
            "KO: 이 영화만을 위해 순수 작곡한 곡은 있지 않다.\n",
            "EN: There is no pure song written for this film alone. \n",
            "\n",
            "KO: 대멸종은 종종 지구상의 생명체의 진화를 가속하기도 한다.\n",
            "EN: Large extinctions often speed up the evolution of life on Earth. \n",
            "\n",
            "KO: 페르세포네가 하데스와 함께 있는 4달은 그리스의 건조한 여름에 해당하는데, 이 기간 동안 식물들은 가뭄으로 생존의 위협을 받는다.\n",
            "EN: The four months that Perconene is with Hades are the dry summers of Greece, during which plants are threatened with survival due to drought. \n",
            "\n",
            "KO: 빅토리아 여왕의 샌드링엄 하우스에 두 차례 방문 중 한번은 그녀가 저녁 식사를 마치고 이곳에서 열린 파티를 열었는데, 그녀의 일기에 \"채색된 천장과 두 개의 벽난로를 지닌 매우 길고 멋진 응접실\"이라 적었다.\n",
            "EN: On one of the two visits to Queen Victoria's Sandringham House, she hosted a party at the end of a dinner and in her journal described it as \"a very long and beautiful parlour with a coloured ceiling and two walls. \n",
            "\n",
            "KO: 대시캠은 일반적으로 4G와 전면 360° 카메라를 채용한다.\n",
            "EN: The study usually features 4G and the front 360° camera. \n",
            "\n"
          ]
        }
      ]
    }
  ]
}