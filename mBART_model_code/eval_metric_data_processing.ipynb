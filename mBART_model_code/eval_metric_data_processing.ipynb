{
 "cells": [
  {
   "cell_type": "markdown",
   "id": "cc14cce8",
   "metadata": {},
   "source": [
    "This code takes the opus post 2020 data, and generates randomly the index and then the file which will be used for metric calcuation"
   ]
  },
  {
   "cell_type": "code",
   "execution_count": null,
   "id": "b894623d",
   "metadata": {},
   "outputs": [
    {
     "name": "stdout",
     "output_type": "stream",
     "text": [
      "✅ Done! 3,000 pairs in sampled_3000_en/kr.txt; rest in rest_en/kr.txt\n"
     ]
    }
   ],
   "source": [
    "import random\n",
    "\n",
    "# File paths\n",
    "en_path = 'opus_data_post_2020_en.txt'\n",
    "kr_path = 'opus_data_post_2020_kr.txt'\n",
    "sampled_en = 'metric_eval_sampled_3000_en.txt'\n",
    "sampled_kr = 'metric_eval_sampled_3000_kr.txt'\n",
    "rest_en = 'opus_data_post_2020_rest_en.txt'\n",
    "rest_kr = 'opus_data_post_2020_rest_kr.txt'\n",
    "\n",
    "# Load lines\n",
    "with open(en_path, encoding='utf-8') as f:\n",
    "    en_lines = f.readlines()\n",
    "with open(kr_path, encoding='utf-8') as f:\n",
    "    kr_lines = f.readlines()\n",
    "\n",
    "# Basic checks\n",
    "num_pairs = min(len(en_lines), len(kr_lines))\n",
    "n = 3000\n",
    "assert num_pairs >= n, f\"Only {num_pairs} pairs available!\"\n",
    "\n",
    "# Randomly sample indices\n",
    "indices_sample = set(random.sample(range(num_pairs), n))\n",
    "indices_rest = set(range(num_pairs)) - indices_sample\n",
    "\n",
    "# Write sampled pairs\n",
    "with open(sampled_en, 'w', encoding='utf-8') as f_en, open(sampled_kr, 'w', encoding='utf-8') as f_kr:\n",
    "    for idx in sorted(indices_sample):\n",
    "        f_en.write(en_lines[idx].rstrip('\\n') + '\\n')\n",
    "        f_kr.write(kr_lines[idx].rstrip('\\n') + '\\n')\n",
    "\n",
    "# Write rest\n",
    "with open(rest_en, 'w', encoding='utf-8') as f_en, open(rest_kr, 'w', encoding='utf-8') as f_kr:\n",
    "    for idx in sorted(indices_rest):\n",
    "        f_en.write(en_lines[idx].rstrip('\\n') + '\\n')\n",
    "        f_kr.write(kr_lines[idx].rstrip('\\n') + '\\n')\n",
    "\n"
   ]
  }
 ],
 "metadata": {
  "kernelspec": {
   "display_name": "Python 3",
   "language": "python",
   "name": "python3"
  },
  "language_info": {
   "codemirror_mode": {
    "name": "ipython",
    "version": 3
   },
   "file_extension": ".py",
   "mimetype": "text/x-python",
   "name": "python",
   "nbconvert_exporter": "python",
   "pygments_lexer": "ipython3",
   "version": "3.11.9"
  }
 },
 "nbformat": 4,
 "nbformat_minor": 5
}
