{
 "cells": [
  {
   "cell_type": "markdown",
   "id": "34e5d9d0",
   "metadata": {},
   "source": [
    "This code is used to extract data which might likely be post 2020, from OPUS 2024 korean <-> english subtitiles."
   ]
  },
  {
   "cell_type": "code",
   "execution_count": null,
   "id": "04670717",
   "metadata": {},
   "outputs": [
    {
     "name": "stdout",
     "output_type": "stream",
     "text": [
      "Done! Found and wrote 20778 post-2020 sentence pairs.\n"
     ]
    }
   ],
   "source": [
    "import re\n",
    "\n",
    "# Input file paths\n",
    "en_path = \"OpenSubtitles.en-ko.en\"\n",
    "ko_path = \"OpenSubtitles.en-ko.ko\"\n",
    "\n",
    "# Output file paths\n",
    "out_en_path = \"opus_data_post_2020_en.txt\"\n",
    "out_ko_path = \"opus_data_post_2020_kr.txt\"\n",
    "\n",
    "# Define keywords and year pattern\n",
    "post2020_keywords = [\n",
    "    \"covid-19\", \"covid\", \"coronavirus\", \"pandemic\", \"vaccine passport\", \"mask mandate\",\n",
    "    \"pcr test\", \"rapid antigen test\", \"social distancing\", \"quarantine center\",\n",
    "    \"vaccination drive\", \"double vaccination\", \"omicron\", \"delta variant\", \"hybrid immunity\",\n",
    "    \"booster shot\", \"long covid\", \"antiviral pill\",\n",
    "    \"chatgpt\", \"gpt-3\", \"gpt-4\", \"dall-e\", \"copilot\", \"openai\", \"stable diffusion\",\n",
    "    \"large language model\", \"generative ai\", \"diffusion model\", \"llm\", \"midjourney\",\n",
    "    \"bard\", \"sora\", \"mistral\", \"ai alignment\", \"anthropic\", \"ai safety\", \"ai hallucination\",\n",
    "    \"remote work\", \"work from home\", \"wfh\", \"zoom meeting\", \"zoom call\", \"teams call\",\n",
    "    \"google meet\", \"hybrid work\", \"digital nomad visa\", \"online class\", \"online learning\",\n",
    "    \"remote learning\", \"lockdown\", \"virtual event\",\n",
    "    \"tiktok trend\", \"tiktok challenge\", \"reels\", \"shorts\", \"cancel culture\",\n",
    "    \"doomscrolling\", \"quiet quitting\", \"great resignation\", \"metaverse\", \"nft\", \"bored ape\",\n",
    "    \"web3\", \"crypto winter\", \"solana\", \"meme stock\", \"gamestop\", \"wallstreetbets\",\n",
    "    \"ukraine invasion\", \"russia ukraine war\", \"kyiv\", \"zelensky\", \"mariupol\", \"donbas\",\n",
    "    \"belgorod\", \"nord stream\", \"covid wave\", \"supply chain disruption\", \"inflation spike\",\n",
    "    \"silicon valley bank\", \"svb collapse\", \"evergrande crisis\", \"red sea crisis\",\n",
    "    \"meta\", \"apple vision pro\", \"iphone 14\", \"iphone 15\", \"galaxy s23\", \"pixel 7\",\n",
    "    \"tesla autopilot\", \"starlink\", \"neuralink\", \"spacex starship\", \"copilot\",\n",
    "    \"squid game\", \"barbenheimer\", \"oppenheimer\", \"taylor swift eras tour\", \"bts hiatus\",\n",
    "    \"world cup 2022\", \"olympics 2021\", \"olympics 2024\", \"euro 2020\", \"fifa world cup qatar\",\n",
    "    \"messi miami\",\n",
    "    \"roe v wade overturn\", \"blm protests 2021\", \"climate strike 2022\", \"cop26\", \"cop28\",\n",
    "    \"net zero 2050\", \"heat dome\", \"wildfires 2021\", \"wildfires 2023\", \"el niño 2023\", \"work from home\"\n",
    "    \"2021\", \"2022\", \"2023\", \"2024\"\n",
    "]\n",
    "\n",
    "year_pattern = re.compile(r'\\b(202[1-4])\\b')\n",
    "\n",
    "# Find indices of English lines likely post-2020\n",
    "post2020_indices = []\n",
    "with open(en_path, \"r\", encoding=\"utf-8\") as en_file:\n",
    "    for idx, line in enumerate(en_file):\n",
    "        line_lower = line.lower()\n",
    "        if any(kw in line_lower for kw in keywords) or year_pattern.search(line):\n",
    "            post2020_indices.append(idx)\n",
    "\n",
    "# Write filtered data to new files\n",
    "with open(en_path, \"r\", encoding=\"utf-8\") as en_file, \\\n",
    "     open(ko_path, \"r\", encoding=\"utf-8\") as ko_file, \\\n",
    "     open(out_en_path, \"w\", encoding=\"utf-8\") as out_en, \\\n",
    "     open(out_ko_path, \"w\", encoding=\"utf-8\") as out_ko:\n",
    "    for idx, (en_line, ko_line) in enumerate(zip(en_file, ko_file)):\n",
    "        if idx in post2020_indices:\n",
    "            out_en.write(en_line)\n",
    "            out_ko.write(ko_line)\n",
    "\n",
    "print(f\"Found and wrote {len(post2020_indices)} post-2020 sentence pairs.\")\n"
   ]
  }
 ],
 "metadata": {
  "kernelspec": {
   "display_name": "Python 3",
   "language": "python",
   "name": "python3"
  },
  "language_info": {
   "codemirror_mode": {
    "name": "ipython",
    "version": 3
   },
   "file_extension": ".py",
   "mimetype": "text/x-python",
   "name": "python",
   "nbconvert_exporter": "python",
   "pygments_lexer": "ipython3",
   "version": "3.11.9"
  }
 },
 "nbformat": 4,
 "nbformat_minor": 5
}
