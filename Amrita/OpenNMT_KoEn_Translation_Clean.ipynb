{
 "cells": [
  {
   "cell_type": "markdown",
   "id": "ec2bbcd6",
   "metadata": {},
   "source": [
    "# OpenNMT Translation Notebook (Korean → English using WikiMatrix)"
   ]
  },
  {
   "cell_type": "code",
   "execution_count": null,
   "id": "3b245ad0",
   "metadata": {},
   "outputs": [],
   "source": [
    "!pip install OpenNMT-py"
   ]
  },
  {
   "cell_type": "code",
   "execution_count": null,
   "id": "aee21e7b",
   "metadata": {},
   "outputs": [],
   "source": [
    "import pandas as pd\n",
    "import os\n",
    "\n",
    "base_path = \"./en-ko_unzipped\"  # Change if needed\n",
    "output_path = \"./opennmt_data\"\n",
    "os.makedirs(output_path, exist_ok=True)\n",
    "\n",
    "# Read the WikiMatrix aligned files\n",
    "with open(os.path.join(base_path, \"WikiMatrix.en-ko.en\"), encoding=\"utf-8\") as f_en, \\\n",
    "     open(os.path.join(base_path, \"WikiMatrix.en-ko.ko\"), encoding=\"utf-8\") as f_ko:\n",
    "    en_lines = [line.strip() for line in f_en.readlines()]\n",
    "    ko_lines = [line.strip() for line in f_ko.readlines()]\n",
    "\n",
    "# Create DataFrame\n",
    "df = pd.DataFrame({\"en\": en_lines, \"ko\": ko_lines})\n",
    "df.dropna(inplace=True)\n",
    "df = df[(df[\"en\"].str.strip() != \"\") & (df[\"ko\"].str.strip() != \"\")]\n",
    "df = df.sample(frac=1, random_state=42).reset_index(drop=True)\n",
    "\n",
    "# Split\n",
    "split_idx = int(0.9 * len(df))\n",
    "train_df = df[:split_idx]\n",
    "valid_df = df[split_idx:]\n",
    "\n",
    "# Save to disk\n",
    "train_df[\"ko\"].to_csv(f\"{output_path}/train.ko\", index=False, header=False)\n",
    "train_df[\"en\"].to_csv(f\"{output_path}/train.en\", index=False, header=False)\n",
    "valid_df[\"ko\"].to_csv(f\"{output_path}/valid.ko\", index=False, header=False)\n",
    "valid_df[\"en\"].to_csv(f\"{output_path}/valid.en\", index=False, header=False)"
   ]
  },
  {
   "cell_type": "code",
   "execution_count": null,
   "id": "035eacd5",
   "metadata": {},
   "outputs": [],
   "source": [
    "!onmt_preprocess \\\n",
    "  -train_src opennmt_data/train.ko -train_tgt opennmt_data/train.en \\\n",
    "  -valid_src opennmt_data/valid.ko -valid_tgt opennmt_data/valid.en \\\n",
    "  -save_data opennmt_data/processed"
   ]
  },
  {
   "cell_type": "code",
   "execution_count": null,
   "id": "44e555d1",
   "metadata": {},
   "outputs": [],
   "source": [
    "!onmt_train \\\n",
    "  -data opennmt_data/processed \\\n",
    "  -save_model opennmt_data/koen_transformer \\\n",
    "  -train_steps 10000 \\\n",
    "  -batch_size 64 \\\n",
    "  -encoder_type transformer \\\n",
    "  -decoder_type transformer \\\n",
    "  -position_encoding \\\n",
    "  -share_embeddings \\\n",
    "  -optim adam -learning_rate 2e-4 \\\n",
    "  -gpu_ranks 0"
   ]
  },
  {
   "cell_type": "code",
   "execution_count": null,
   "id": "68af3d71",
   "metadata": {},
   "outputs": [],
   "source": [
    "# Translate test Korean sentence\n",
    "!echo \"안녕하세요. 오늘 날씨가 어때요?\" > test_input.ko\n",
    "!onmt_translate \\\n",
    "  -model opennmt_data/koen_transformer_step_10000.pt \\\n",
    "  -src test_input.ko \\\n",
    "  -output test_output.en \\\n",
    "  -gpu 0\n",
    "\n",
    "# View translation\n",
    "!cat test_output.en"
   ]
  }
 ],
 "metadata": {},
 "nbformat": 4,
 "nbformat_minor": 5
}
